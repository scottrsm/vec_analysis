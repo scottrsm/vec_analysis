{
 "cells": [
  {
   "cell_type": "markdown",
   "id": "70375872-d17d-4226-be16-bffdc61aa354",
   "metadata": {},
   "source": [
    "## Find Duplicate JPEG files from a Directory\n",
    "The code below examines photos (JPEGS) in a given directory\n",
    "and finds duplicates. The duplicates are moved to a dups directory where they may be \n",
    "examined to see if they really are dups.\n",
    "\n",
    "Given a collection of duplicate photos, they are arranged so that names that start with \n",
    "letters are sorted before names that begin with numbers. The file(s) sent to the dups directory\n",
    "will be the ones after the first of the sorted files.\n",
    "\n",
    "The approach to find duplicates is the following:\n",
    "\n",
    "- Create a dictionary for images:\n",
    "  - Determine the size of the image in pixels: (X, Y).\n",
    "  - Create a hash function for an image:\n",
    "    - Average the RGB values for each pixek.\n",
    "    - Construct a small grid of points.\n",
    "    - Average the averaged pixel values over the grid.\n",
    "  - A given file is appended to a list of filenames based on\n",
    "    the key: (X, Y, image_hash_value).\n",
    "    That is, the dictionary has the form: (X, Y, image_hash_value) -> list_of_files\n",
    "- Once all of the files have been placed into the dictionary,\n",
    "  find keys in the dictionary that values with list-length > 1.\n",
    "  Copy all of the files, except the first to the dups directory.\n",
    "\n",
    "  \n"
   ]
  },
  {
   "cell_type": "markdown",
   "id": "bf72179c-2e8e-449b-837f-58e5c27bf2d7",
   "metadata": {},
   "source": [
    "### Setup"
   ]
  },
  {
   "cell_type": "code",
   "execution_count": null,
   "id": "360e46fa-4015-4a5d-8aaf-fc5429799e29",
   "metadata": {},
   "outputs": [],
   "source": [
    "import os\n",
    "import glob\n",
    "import filecmp\n",
    "import shutil\n",
    "from datetime import datetime, timedelta\n",
    "from PIL import Image\n",
    "import numpy as np\n",
    "import matplotlib.pyplot as plt"
   ]
  },
  {
   "cell_type": "code",
   "execution_count": null,
   "id": "754603a6-5184-4658-86f8-63ede2a52185",
   "metadata": {},
   "outputs": [],
   "source": [
    "## Source is directory where the pics are\n",
    "## Duplicate directory is where the duplicates will be moved.\n",
    "SOURCE_DIR = <Set-this>\n",
    "DUP_DIR    = <Set-this>"
   ]
  },
  {
   "cell_type": "markdown",
   "id": "9f25c10b-b5c2-4dd4-9c07-f1ced214c54c",
   "metadata": {},
   "source": [
    "### Functions"
   ]
  },
  {
   "cell_type": "markdown",
   "id": "4be2de75-32e2-4a1c-a2e7-4c0bae33a8b0",
   "metadata": {},
   "source": [
    "### Color Signature\n",
    "Problem: Find a way to find duplicate images, where the images can be of differing resolution and X/Y aspect ratio.\n",
    "\n",
    "Proposed Solution:\n",
    "- Extract the 3-D array of RGB color values.\n",
    "- Pick certain directions (2-D normal vectors) and compute the average of the R, G, B array values\n",
    "  in that direction.\n",
    "- Use this set of tuples as a hash for a dictionary.\n",
    "  Append to a list all picture file names that have the same hash.\n",
    "- Find all key/values where the values are list of length > 1. "
   ]
  },
  {
   "cell_type": "code",
   "execution_count": null,
   "id": "ccee2a2c-77b4-41e9-bb62-9bc81a8be483",
   "metadata": {},
   "outputs": [],
   "source": [
    "## Color\n",
    "def array_sig_col(A, normals):\n",
    "  M, N, D = A.shape\n",
    "\n",
    "  x_idx = np.array(list(range(M)))\n",
    "  y_idx = np.array(list(range(N)))\n",
    "  z_idx = np.array(list(range(D)))\n",
    "\n",
    "  x_idx = x_idx.reshape(M, 1, 1)\n",
    "  y_idx = y_idx.reshape(1, N, 1)\n",
    "  z_idx = z_idx.reshape(1, 1, D)\n",
    "\n",
    "  M2 = M / 2.0\n",
    "  N2 = N / 2.0\n",
    "\n",
    "  big_adj   = np.log(np.sqrt(6000000 / (1066 * 1600))) / 2.0\n",
    "  small_adj = np.sqrt((1280 * 853) / (1024 * 1600)) / 4.0\n",
    "  \n",
    "  adj_no = np.sqrt((M * N) / (1066 * 1600)) \n",
    "  adj = 0.0\n",
    "  if adj_no > 0.85:\n",
    "    adj = - 0.825\n",
    "  elif adj_no < 0.85:\n",
    "    adj = 0.30\n",
    "  \n",
    "  sigs = []\n",
    "  s = np.zeros(D).astype(int)\n",
    "  for i in range(len(normals)):\n",
    "    for k in range(D):\n",
    "      B = normals[i][0] * (x_idx - M2) + normals[i][1] * (y_idx - N2)\n",
    "      X_idx, Y_idx, Z_idx = np.where(B > 0)\n",
    "      avg = np.round(np.average(A[X_idx, Y_idx, k]) + adj, 1)\n",
    "      s[k] = int(avg / 17.5)\n",
    "    sigs.append((s[0], s[1], s[2]))\n",
    "  \n",
    "  return(tuple(sigs))\n"
   ]
  },
  {
   "cell_type": "code",
   "execution_count": null,
   "id": "751df397-9a3a-4d99-9b62-4cc0916a1b63",
   "metadata": {},
   "outputs": [],
   "source": [
    "## Color\n",
    "def pic_sig_col(jpg_file, normals, source=SOURCE_DIR):\n",
    "  \"\"\"\n",
    "  \"\"\"\n",
    "  os.chdir(source)\n",
    "  \n",
    "  ## Extract image from jpg file.\n",
    "  img = Image.open(jpg_file)\n",
    "  pary = np.asarray(img)\n",
    "\n",
    "  return(array_sig_col(pary, normals))"
   ]
  },
  {
   "cell_type": "code",
   "execution_count": null,
   "id": "b471486b-e4ce-4b0f-921a-ac6d2d69d5fa",
   "metadata": {},
   "outputs": [],
   "source": [
    "angles = np.array([0.1, 0.55, 1.0, 1.4, 1.9, 2.5, 4.25, 4.8, 5.3, 5.8])\n",
    "xs = np.cos(angles)\n",
    "ys = np.sin(angles)\n",
    "plt.scatter(xs, ys)"
   ]
  },
  {
   "cell_type": "code",
   "execution_count": null,
   "id": "f6daf836-ba20-480e-9080-f3f3942d45d1",
   "metadata": {},
   "outputs": [],
   "source": [
    "def find_dup_jpegs_col(jpeg_dir, angels, verbose=True):\n",
    "  \"\"\"\n",
    "  \"\"\"\n",
    "  normals = [(np.cos(angle), np.sin(angle)) for angle in angles]\n",
    "  \n",
    "  ## Go to the picture directory.\n",
    "  os.chdir(jpeg_dir)\n",
    "\n",
    "  ## Get all of the JPEG files.\n",
    "  print(f\"Gather the JPEG files...\")\n",
    "  jpgFiles = glob.glob('*.jpg')\n",
    "\n",
    "  ## Number of files to process\n",
    "  n = len(jpgFiles)\n",
    "  \n",
    "  ## Process the files and fill the hash, HSH.\n",
    "  print(f\"Processing the {n} files and filling the hash...\")\n",
    "  HSH = {}\n",
    "  progress = [0, 10, 20, 30, 40, 50, 60, 70, 80, 90]\n",
    "  if verbose:\n",
    "    print(f\"time = {datetime.now()}\")\n",
    "  for i in range(n):\n",
    "    x = int(100 * i / n)\n",
    "    if x in progress:\n",
    "      progress.pop(0)\n",
    "      if verbose:\n",
    "        print(f\"%{x} of files have been processed (time = {datetime.now()})...\")\n",
    "      else:\n",
    "        print(f\"%{x} of files have been processed...\")\n",
    "    hsh = pic_sig_col(jpgFiles[i], normals, source=jpeg_dir)\n",
    "    if hsh in HSH:\n",
    "      HSH[hsh].append(jpgFiles[i])\n",
    "    else:\n",
    "      HSH[hsh] = [jpgFiles[i]]\n",
    "  print(\"Finished processing files.\")\n",
    "  return(HSH)"
   ]
  },
  {
   "cell_type": "code",
   "execution_count": null,
   "id": "3719bbae-8840-45a4-9e66-eaba1ecda8f1",
   "metadata": {},
   "outputs": [],
   "source": [
    "angles = np.array([0.1, 0.55, 1.0, 1.4, 1.9, 2.5, 4.25, 4.8, 5.3, 5.8])\n",
    "t1 = datetime.now()\n",
    "print(f\"t1 = {t1}\")\n",
    "HSH = find_dup_jpegs_col(SOURCE_DIR, angles)\n",
    "t2 = datetime.now()\n",
    "print(f\"t2 = {t2}\")\n",
    "print(f\"Time to process = {t2 - t1}\")"
   ]
  },
  {
   "cell_type": "code",
   "execution_count": null,
   "id": "c0207b09-88cb-4bc1-bbe0-3a1eb75c040b",
   "metadata": {},
   "outputs": [],
   "source": [
    "## Rearrange the files in the value array so that the more intuitive names come first.\n",
    "## In this way we treat the later files as duplicates.\n",
    "lst = [(key, len(value)) for key, value in HSH.items()]\n",
    "lst.sort(reverse=True, key=lambda x: x[1])\n",
    "\n",
    "## Potential duplicates are entries in the dictionary whose array as length > 1.\n",
    "pot_dups =  [(key, value) for key, value in HSH.items() if len(value) > 1]"
   ]
  },
  {
   "cell_type": "code",
   "execution_count": null,
   "id": "c094da1b-7b9f-4849-a44a-becc4477a5a7",
   "metadata": {},
   "outputs": [],
   "source": [
    "len(pot_dups)"
   ]
  },
  {
   "cell_type": "code",
   "execution_count": null,
   "id": "84b83556-8322-418b-8749-8f3b9a48c356",
   "metadata": {},
   "outputs": [],
   "source": [
    "pot_dups"
   ]
  }
 ],
 "metadata": {
  "kernelspec": {
   "display_name": "Python 3 (ipykernel)",
   "language": "python",
   "name": "python3"
  },
  "language_info": {
   "codemirror_mode": {
    "name": "ipython",
    "version": 3
   },
   "file_extension": ".py",
   "mimetype": "text/x-python",
   "name": "python",
   "nbconvert_exporter": "python",
   "pygments_lexer": "ipython3",
   "version": "3.9.16"
  }
 },
 "nbformat": 4,
 "nbformat_minor": 5
}
