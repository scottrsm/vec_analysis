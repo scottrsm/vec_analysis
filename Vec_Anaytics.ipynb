{
 "cells": [
  {
   "cell_type": "markdown",
   "id": "05e6f30d-5a55-4dcd-8b26-beefd0e0aa57",
   "metadata": {},
   "source": [
    "## Setup"
   ]
  },
  {
   "cell_type": "code",
   "execution_count": 19,
   "id": "1d8350d9-f3ca-4736-b6c1-6f33f8b59dd0",
   "metadata": {},
   "outputs": [],
   "source": [
    "import numpy as np\n",
    "import vec_analytics as va"
   ]
  },
  {
   "cell_type": "markdown",
   "id": "42f95043-d3d6-4f6e-9f90-e01473d122b7",
   "metadata": {},
   "source": [
    "### Weighted Quantiles"
   ]
  },
  {
   "cell_type": "code",
   "execution_count": 26,
   "id": "05721d49-3f3d-4828-bd15-c2364be906f5",
   "metadata": {},
   "outputs": [
    {
     "name": "stdout",
     "output_type": "stream",
     "text": [
      "Regular Quantiles = [0.99049525 2.49124562 4.99249625 7.49874937 8.99949975]\n"
     ]
    }
   ],
   "source": [
    "np.random.seed(1)\n",
    "xs = np.linspace(0.0, 10.0, 2000)          # Data vector.\n",
    "ws = np.ones(2000)                         # Uniform weights (Don't need to be normalized).\n",
    "qs = np.array([0.1, 0.25, 0.5, 0.75, 0.9]) # Quantiles.\n",
    "\n",
    "res = va.wgt_quantiles(xs, ws, qs)\n",
    "print(f\"Regular Quantiles = {res}\")"
   ]
  },
  {
   "cell_type": "code",
   "execution_count": 27,
   "id": "b83330b7-0f67-4c54-9a57-d2cb58ef147d",
   "metadata": {},
   "outputs": [
    {
     "name": "stdout",
     "output_type": "stream",
     "text": [
      "Weighted Quantiles = [1.03051526 2.50625313 5.09754877 7.5937969  9.01950975]\n"
     ]
    }
   ],
   "source": [
    "np.random.seed(1)\n",
    "xs = np.linspace(0.0, 10.0, 2000)           # Data vector.\n",
    "ws = np.random.rand(2000)                   # Random weights (Don't need to be normalized).\n",
    "qs = np.array([0.1, 0.25, 0.5, 0.75, 0.9])  # Quantiles.\n",
    "\n",
    "res = va.wgt_quantiles(xs, ws, qs)\n",
    "print(f\"Weighted Quantiles = {res}\")"
   ]
  },
  {
   "cell_type": "markdown",
   "id": "e39e1ff4-d785-4c30-a169-185846078bbb",
   "metadata": {},
   "source": [
    "### Weighted \"Tensor\" Quantiles"
   ]
  },
  {
   "cell_type": "code",
   "execution_count": 28,
   "id": "3d19f276-0bfa-4ae0-812a-8c1cb5b26ffa",
   "metadata": {},
   "outputs": [
    {
     "name": "stdout",
     "output_type": "stream",
     "text": [
      "Regular Tensor Quantiles:\n",
      "[0.09004502 0.24012006 0.49024512 0.74037019 0.89044522]\n",
      "[1.09054527 1.24062031 1.49074537 1.74087044 1.89094547]\n",
      "[2.09104552 2.24112056 2.49124562 2.74137069 2.89144572]\n",
      "[3.09154577 3.24162081 3.49174587 3.74187094 3.89194597]\n",
      "[4.09204602 4.24212106 4.49224612 4.74237119 4.89244622]\n",
      "[5.09254627 5.24262131 5.49274637 5.74287144 5.89294647]\n",
      "[6.09304652 6.24312156 6.49324662 6.74337169 6.89344672]\n",
      "[7.09354677 7.24362181 7.49374687 7.74387194 7.89394697]\n",
      "[8.09404702 8.24412206 8.49424712 8.74437219 8.89444722]\n",
      "[9.09454727 9.24462231 9.49474737 9.74487244 9.89494747]\n"
     ]
    }
   ],
   "source": [
    "# Each row of the 10x200 matrix <X> is a vector of data (length 200). \n",
    "# We wish to form the quantiles for each of these vectors.\n",
    "# We create a new matrix, <Q>, of dimension: 10x5 (5 -- the number of quantile values).\n",
    "X = np.linspace(0.0, 10.0, 2000) \n",
    "np.random.seed(1)\n",
    "X = X.reshape(10, 200)                     # <X> is a \"tensor\", (a matrix), where each row is a vector of data.\n",
    "ws = np.ones(200)                          # Uniform weights (Don't need to be normalized).\n",
    "qs = np.array([0.1, 0.25, 0.5, 0.75, 0.9]) # The quantiles.\n",
    "\n",
    "Q = va.wgt_quantiles_tensor(X, ws, qs)\n",
    "print(f\"Regular Tensor Quantiles:\")\n",
    "[print(f\"{q}\") for q in Q];"
   ]
  },
  {
   "cell_type": "code",
   "execution_count": 29,
   "id": "96ba5cec-bed9-40dc-8ccb-a6e978924573",
   "metadata": {},
   "outputs": [
    {
     "name": "stdout",
     "output_type": "stream",
     "text": [
      "Weighted Tensor Quantiles:\n",
      "[0.11005503 0.26013007 0.49024512 0.75037519 0.90045023]\n",
      "[1.11055528 1.26063032 1.49074537 1.75087544 1.90095048]\n",
      "[2.11105553 2.26113057 2.49124562 2.75137569 2.90145073]\n",
      "[3.11155578 3.26163082 3.49174587 3.75187594 3.90195098]\n",
      "[4.11205603 4.26213107 4.49224612 4.75237619 4.90245123]\n",
      "[5.11255628 5.26263132 5.49274637 5.75287644 5.90295148]\n",
      "[6.11305653 6.26313157 6.49324662 6.75337669 6.90345173]\n",
      "[7.11355678 7.26363182 7.49374687 7.75387694 7.90395198]\n",
      "[8.11405703 8.26413207 8.49424712 8.75437719 8.90445223]\n",
      "[9.11455728 9.26463232 9.49474737 9.75487744 9.90495248]\n"
     ]
    }
   ],
   "source": [
    "# Each row of the 10x200 matrix <X> is a vector of data (length 200). \n",
    "# We wish to form the weighted quantiles for each of these vectors.\n",
    "# We create a new matrix, <Q>, of dimension: 10x5 (5 -- the number of quantile values).\n",
    "np.random.seed(1)\n",
    "X = np.linspace(0.0, 10.0, 2000) \n",
    "X = X.reshape(10, 200)                      # <X> is a \"tensor\" a matrix, where each rwo is a vector of data.\n",
    "ws = np.random.rand(200)                    # Random weights (Don't need to be normalized)\n",
    "qs = np.array([0.1, 0.25, 0.5, 0.75, 0.9])  # The quantiles.\n",
    "\n",
    "Q = va.wgt_quantiles_tensor(X, ws, qs)\n",
    "print(f\"Weighted Tensor Quantiles:\")\n",
    "[print(f\"{q}\") for q in Q];"
   ]
  },
  {
   "cell_type": "markdown",
   "id": "65cee8b5-99d3-4fd8-a4cd-00d0055b5db7",
   "metadata": {},
   "source": [
    "### Most Correlated Security"
   ]
  },
  {
   "cell_type": "code",
   "execution_count": 35,
   "id": "004e9d5e-6855-4290-9df1-0f4405b729a3",
   "metadata": {},
   "outputs": [],
   "source": [
    "# Create synthetic returns for securities in our universe.\n",
    "# 10 returns from the 5 securities in our universe. X.shape = (5,10).\n",
    "np.random.seed(1)\n",
    "X = np.random.rand(5, 10)"
   ]
  },
  {
   "cell_type": "code",
   "execution_count": 34,
   "id": "5f71c685-07c8-4a49-a05c-54aebd3427a3",
   "metadata": {},
   "outputs": [
    {
     "data": {
      "text/plain": [
       "array([[ 1.        ,  0.2061907 ,  0.30361534, -0.33590049,  0.20879493],\n",
       "       [ 0.2061907 ,  1.        ,  0.15950074, -0.12891314,  0.60635175],\n",
       "       [ 0.30361534,  0.15950074,  1.        , -0.22498689,  0.04237877],\n",
       "       [-0.33590049, -0.12891314, -0.22498689,  1.        , -0.3822043 ],\n",
       "       [ 0.20879493,  0.60635175,  0.04237877, -0.3822043 ,  1.        ]])"
      ]
     },
     "execution_count": 34,
     "metadata": {},
     "output_type": "execute_result"
    }
   ],
   "source": [
    "# Find the correlations between each security.\n",
    "va.corr_cov(X)"
   ]
  },
  {
   "cell_type": "code",
   "execution_count": 36,
   "id": "78e900ea-43aa-4181-907d-15d261abafdb",
   "metadata": {},
   "outputs": [
    {
     "data": {
      "text/plain": [
       "array([[ 0.04735338,  0.01242557,  0.02476038, -0.02287041,  0.01502366],\n",
       "       [ 0.01242557,  0.07669083,  0.0165536 , -0.01117009,  0.05552347],\n",
       "       [ 0.02476038,  0.0165536 ,  0.1404482 , -0.02638172,  0.00525154],\n",
       "       [-0.02287041, -0.01117009, -0.02638172,  0.09789838, -0.03954245],\n",
       "       [ 0.01502366,  0.05552347,  0.00525154, -0.03954245,  0.10933534]])"
      ]
     },
     "execution_count": 36,
     "metadata": {},
     "output_type": "execute_result"
    }
   ],
   "source": [
    "# Find the covariance matrix for the 5 securities in X.\n",
    "va.corr_cov(X, corr=False)"
   ]
  },
  {
   "cell_type": "code",
   "execution_count": 37,
   "id": "9a576bf2-8252-471a-9aa7-f16b2b6cd6ab",
   "metadata": {},
   "outputs": [],
   "source": [
    "# Security universe.\n",
    "ulabs = np.array([\"IBM\", \"PFE\", \"C\", \"BAC\", \"GS\"])\n",
    "\n",
    "# Securities of interest within the universe.\n",
    "labs  = np.array([\"PFE\", \"GS\"])\n",
    "\n",
    "# Dictionary mapping security names to row indices in X.\n",
    "lab_dict = { 'IBM' : 0, 'PFE' : 1, 'C' : 2, 'BAC' : 3, 'GS' : 4 }"
   ]
  },
  {
   "cell_type": "code",
   "execution_count": 38,
   "id": "a5a9a4b2-eca3-4041-9ea8-d4e6fab47be9",
   "metadata": {},
   "outputs": [
    {
     "data": {
      "text/html": [
       "<div>\n",
       "<style scoped>\n",
       "    .dataframe tbody tr th:only-of-type {\n",
       "        vertical-align: middle;\n",
       "    }\n",
       "\n",
       "    .dataframe tbody tr th {\n",
       "        vertical-align: top;\n",
       "    }\n",
       "\n",
       "    .dataframe thead th {\n",
       "        text-align: right;\n",
       "    }\n",
       "</style>\n",
       "<table border=\"1\" class=\"dataframe\">\n",
       "  <thead>\n",
       "    <tr style=\"text-align: right;\">\n",
       "      <th></th>\n",
       "      <th>lab</th>\n",
       "      <th>best_correlate</th>\n",
       "      <th>best_corr</th>\n",
       "      <th>valid_cnt</th>\n",
       "    </tr>\n",
       "  </thead>\n",
       "  <tbody>\n",
       "    <tr>\n",
       "      <th>0</th>\n",
       "      <td>PFE</td>\n",
       "      <td>GS</td>\n",
       "      <td>0.606352</td>\n",
       "      <td>1</td>\n",
       "    </tr>\n",
       "    <tr>\n",
       "      <th>1</th>\n",
       "      <td>GS</td>\n",
       "      <td>PFE</td>\n",
       "      <td>0.606352</td>\n",
       "      <td>1</td>\n",
       "    </tr>\n",
       "  </tbody>\n",
       "</table>\n",
       "</div>"
      ],
      "text/plain": [
       "   lab best_correlate  best_corr  valid_cnt\n",
       "0  PFE             GS   0.606352          1\n",
       "1   GS            PFE   0.606352          1"
      ]
     },
     "execution_count": 38,
     "metadata": {},
     "output_type": "execute_result"
    }
   ],
   "source": [
    "# Find the most correlated security to each of the \n",
    "# securities in <labs> within our universe, <ulabs>.\n",
    "va.most_corr_vec(X, labs, ulabs, lab_dict)"
   ]
  },
  {
   "cell_type": "code",
   "execution_count": null,
   "id": "bed9843b-7297-45de-ba4a-01f4db8bbdd5",
   "metadata": {},
   "outputs": [],
   "source": [
    "# Exclude certain securities from the analysis.\n",
    "# Q: Why?\n",
    "# A: You may not be allowed to trade certain securities in a given large universe.\n",
    "va.most_corr_vec(X, labs, ulabs, lab_dict, exclude_labs=np.array([\"GS\", \"BAC\"]))"
   ]
  },
  {
   "cell_type": "code",
   "execution_count": null,
   "id": "a50ae91d-b4e6-49b1-b06f-44468c73db8e",
   "metadata": {},
   "outputs": [],
   "source": [
    "# Use non-uniform weights.\n",
    "# Q: Why? \n",
    "# A: You may be interested in securities that are correlated but would like the correlates \n",
    "#    to be liquid assets.\n",
    "#    To help achieve this, one could use weights based on market volume, \n",
    "#    transaction cost, or relative spread. Or, some combination of these.\n",
    "va.most_corr_vec(X, labs, ulabs, lab_dict, ws=np.array([1., 2., 3., 4., 5., 6., 7., 8., 9., 10.]))"
   ]
  },
  {
   "cell_type": "markdown",
   "id": "2c643b8e-168d-4bf9-bd51-1aa37d313b77",
   "metadata": {},
   "source": [
    "### Most Correlated Securities (limited to 2 (k = 2))"
   ]
  },
  {
   "cell_type": "code",
   "execution_count": null,
   "id": "21d17be3-ccd7-41f2-869d-ce2e8ac37760",
   "metadata": {},
   "outputs": [],
   "source": [
    "# Find the top 2 most correlated securities to each \n",
    "# security in <labs> within the universe, <ulabs>.\n",
    "va.most_corr_vecs(X, labs, ulabs, lab_dict, 2)"
   ]
  },
  {
   "cell_type": "code",
   "execution_count": null,
   "id": "a3989c0e-52de-4ec6-9e67-ccce11dba18a",
   "metadata": {},
   "outputs": [],
   "source": [
    "# Same as last cell, but eliminate the security \"BAC\" from consideration.\n",
    "va.most_corr_vecs(X, labs, ulabs, lab_dict, 2, exclude_labs=np.array([\"BAC\"]))"
   ]
  },
  {
   "cell_type": "code",
   "execution_count": null,
   "id": "d8c0526c-ee5f-47f5-be9d-649d22919f57",
   "metadata": {},
   "outputs": [],
   "source": [
    "# Same as last cell, but eliminate the securities \"PFE\" and \"BAC\" from consideration.\n",
    "va.most_corr_vecs(X, labs, ulabs, lab_dict, 2, exclude_labs=np.array([\"PFE\", \"IBM\"]))"
   ]
  },
  {
   "cell_type": "code",
   "execution_count": null,
   "id": "be2115ee-03e1-4ecb-8bca-caa2c7ca256d",
   "metadata": {},
   "outputs": [],
   "source": [
    "# Find \"best\" correlations, where best means smallest (ideally this should find securities that are anti-correlated). \n",
    "CT = va.CorrType\n",
    "va.most_corr_vecs(X, labs, ulabs, lab_dict, 2, corr_type=CT.LEAST)"
   ]
  },
  {
   "cell_type": "code",
   "execution_count": null,
   "id": "6f4eb29b-7040-494b-bfe1-231fc778546b",
   "metadata": {},
   "outputs": [],
   "source": [
    "# Find \"best\" correlations, where best means lowest.\n",
    "# Lowest means smallest in absolute value. For a given security,\n",
    "# this should select the 2 securities which are the most un-related.\n",
    "CT = va.CorrType\n",
    "va.most_corr_vecs(X, labs, ulabs, lab_dict, 2, corr_type=CT.LOW)"
   ]
  }
 ],
 "metadata": {
  "kernelspec": {
   "display_name": "Python [conda env:base] *",
   "language": "python",
   "name": "conda-base-py"
  },
  "language_info": {
   "codemirror_mode": {
    "name": "ipython",
    "version": 3
   },
   "file_extension": ".py",
   "mimetype": "text/x-python",
   "name": "python",
   "nbconvert_exporter": "python",
   "pygments_lexer": "ipython3",
   "version": "3.12.2"
  }
 },
 "nbformat": 4,
 "nbformat_minor": 5
}
