{
 "cells": [
  {
   "cell_type": "markdown",
   "id": "05e6f30d-5a55-4dcd-8b26-beefd0e0aa57",
   "metadata": {},
   "source": [
    "## Setup"
   ]
  },
  {
   "cell_type": "code",
   "execution_count": null,
   "id": "1d8350d9-f3ca-4736-b6c1-6f33f8b59dd0",
   "metadata": {},
   "outputs": [],
   "source": [
    "import numpy as np\n",
    "import vec_analytics as va"
   ]
  },
  {
   "cell_type": "markdown",
   "id": "42f95043-d3d6-4f6e-9f90-e01473d122b7",
   "metadata": {},
   "source": [
    "### Weighted Quantiles"
   ]
  },
  {
   "cell_type": "code",
   "execution_count": null,
   "id": "05721d49-3f3d-4828-bd15-c2364be906f5",
   "metadata": {},
   "outputs": [],
   "source": [
    "np.random.seed(1)\n",
    "xs = np.linspace(0.0, 10.0, 2000)          # Data vector.\n",
    "ws = np.ones(2000)                         # Uniform weights (Don't need to be normalized).\n",
    "qs = np.array([0.1, 0.25, 0.5, 0.75, 0.9]) # Quantiles.\n",
    "\n",
    "res = va.wgt_quantiles(xs, ws, qs)\n",
    "print(f\"Regular Quantiles = {res}\")"
   ]
  },
  {
   "cell_type": "code",
   "execution_count": null,
   "id": "b83330b7-0f67-4c54-9a57-d2cb58ef147d",
   "metadata": {},
   "outputs": [],
   "source": [
    "np.random.seed(1)\n",
    "xs = np.linspace(0.0, 10.0, 2000)           # Data vector.\n",
    "ws = np.random.rand(2000)                   # Random weights (Don't need to be normalized).\n",
    "qs = np.array([0.1, 0.25, 0.5, 0.75, 0.9])  # Quantiles.\n",
    "\n",
    "res = va.wgt_quantiles(xs, ws, qs)\n",
    "print(f\"Weighted Quantiles = {res}\")"
   ]
  },
  {
   "cell_type": "markdown",
   "id": "e39e1ff4-d785-4c30-a169-185846078bbb",
   "metadata": {},
   "source": [
    "### Weighted \"Tensor\" Quantiles"
   ]
  },
  {
   "cell_type": "code",
   "execution_count": null,
   "id": "3d19f276-0bfa-4ae0-812a-8c1cb5b26ffa",
   "metadata": {},
   "outputs": [],
   "source": [
    "# Each row of the 10x200 matrix <X> is a vector of data (length 200). \n",
    "# We wish to form the quantiles for each of these vectors.\n",
    "# We create a new matrix, <Q>, of dimension: 10x5 (5 -- the number of quantile values).\n",
    "X = np.linspace(0.0, 10.0, 2000) \n",
    "np.random.seed(1)\n",
    "X = X.reshape(10, 200)                     # <X> is a \"tensor\", (a matrix), where each row is a vector of data.\n",
    "ws = np.ones(200)                          # Uniform weights (Don't need to be normalized).\n",
    "qs = np.array([0.1, 0.25, 0.5, 0.75, 0.9]) # The quantiles.\n",
    "\n",
    "Q = va.wgt_quantiles_tensor(X, ws, qs)\n",
    "print(f\"Regular Tensor Quantiles:\")\n",
    "[print(f\"{q}\") for q in Q];"
   ]
  },
  {
   "cell_type": "code",
   "execution_count": null,
   "id": "96ba5cec-bed9-40dc-8ccb-a6e978924573",
   "metadata": {},
   "outputs": [],
   "source": [
    "# Each row of the 10x200 matrix <X> is a vector of data (length 200). \n",
    "# We wish to form the weighted quantiles for each of these vectors.\n",
    "# We create a new matrix, <Q>, of dimension: 10x5 (5 -- the number of quantile values).\n",
    "np.random.seed(1)\n",
    "X = np.linspace(0.0, 10.0, 2000) \n",
    "X = X.reshape(10, 200)                      # <X> is a \"tensor\" a matrix, where each rwo is a vector of data.\n",
    "ws = np.random.rand(200)                    # Random weights (Don't need to be normalized)\n",
    "qs = np.array([0.1, 0.25, 0.5, 0.75, 0.9])  # The quantiles.\n",
    "\n",
    "Q = va.wgt_quantiles_tensor(X, ws, qs)\n",
    "print(f\"Weighted Tensor Quantiles:\")\n",
    "[print(f\"{q}\") for q in Q];"
   ]
  },
  {
   "cell_type": "markdown",
   "id": "65cee8b5-99d3-4fd8-a4cd-00d0055b5db7",
   "metadata": {},
   "source": [
    "### Most Correlated Security"
   ]
  },
  {
   "cell_type": "code",
   "execution_count": null,
   "id": "004e9d5e-6855-4290-9df1-0f4405b729a3",
   "metadata": {},
   "outputs": [],
   "source": [
    "# Create synthetic returns for securities in our universe.\n",
    "# 10 returns from the 5 securities in our universe. X.shape = (5,10).\n",
    "np.random.seed(1)\n",
    "X = np.random.rand(5, 10)"
   ]
  },
  {
   "cell_type": "code",
   "execution_count": null,
   "id": "5f71c685-07c8-4a49-a05c-54aebd3427a3",
   "metadata": {},
   "outputs": [],
   "source": [
    "# Find the correlations between each security.\n",
    "va.corr_cov(X)"
   ]
  },
  {
   "cell_type": "code",
   "execution_count": null,
   "id": "78e900ea-43aa-4181-907d-15d261abafdb",
   "metadata": {},
   "outputs": [],
   "source": [
    "# Find the covariance matrix for the 5 securities in X.\n",
    "va.corr_cov(X, corr=False)"
   ]
  },
  {
   "cell_type": "code",
   "execution_count": null,
   "id": "9a576bf2-8252-471a-9aa7-f16b2b6cd6ab",
   "metadata": {},
   "outputs": [],
   "source": [
    "# Security universe.\n",
    "ulabs = np.array([\"IBM\", \"PFE\", \"C\", \"BAC\", \"GS\"])\n",
    "\n",
    "# Securities of interest within the universe.\n",
    "labs  = np.array([\"PFE\", \"GS\"])\n",
    "\n",
    "# Dictionary mapping security names to row indices in X.\n",
    "lab_dict = { 'IBM' : 0, 'PFE' : 1, 'C' : 2, 'BAC' : 3, 'GS' : 4 }"
   ]
  },
  {
   "cell_type": "code",
   "execution_count": null,
   "id": "a5a9a4b2-eca3-4041-9ea8-d4e6fab47be9",
   "metadata": {},
   "outputs": [],
   "source": [
    "# Find the most correlated security to each of the \n",
    "# securities in <labs> within our universe, <ulabs>.\n",
    "va.most_corr_vec(X, labs, ulabs, lab_dict)"
   ]
  },
  {
   "cell_type": "code",
   "execution_count": null,
   "id": "bed9843b-7297-45de-ba4a-01f4db8bbdd5",
   "metadata": {},
   "outputs": [],
   "source": [
    "# Exclude certain securities from the analysis.\n",
    "# Q: Why?\n",
    "# A: You may not be allowed to trade certain securities in a given large universe.\n",
    "va.most_corr_vec(X, labs, ulabs, lab_dict, exclude_labs=np.array([\"GS\", \"BAC\"]))"
   ]
  },
  {
   "cell_type": "code",
   "execution_count": null,
   "id": "a50ae91d-b4e6-49b1-b06f-44468c73db8e",
   "metadata": {},
   "outputs": [],
   "source": [
    "# Use non-uniform weights.\n",
    "# Q: Why? \n",
    "# A: You may be interested in securities that are correlated but would like the correlates \n",
    "#    to be liquid assets.\n",
    "#    To help achieve this, one could use weights based on market volume, \n",
    "#    transaction cost, or relative spread. Or, some combination of these.\n",
    "va.most_corr_vec(X, labs, ulabs, lab_dict, ws=np.array([1., 2., 3., 4., 5., 6., 7., 8., 9., 10.]))"
   ]
  },
  {
   "cell_type": "markdown",
   "id": "2c643b8e-168d-4bf9-bd51-1aa37d313b77",
   "metadata": {},
   "source": [
    "### Most Correlated Securities (limited to 2 (k = 2))"
   ]
  },
  {
   "cell_type": "code",
   "execution_count": null,
   "id": "21d17be3-ccd7-41f2-869d-ce2e8ac37760",
   "metadata": {},
   "outputs": [],
   "source": [
    "# Find the top 2 most correlated securities to each \n",
    "# security in <labs> within the universe, <ulabs>.\n",
    "va.most_corr_vecs(X, labs, ulabs, lab_dict, 2)"
   ]
  },
  {
   "cell_type": "code",
   "execution_count": null,
   "id": "a3989c0e-52de-4ec6-9e67-ccce11dba18a",
   "metadata": {},
   "outputs": [],
   "source": [
    "# Same as last cell, but eliminate the security \"BAC\" from consideration.\n",
    "va.most_corr_vecs(X, labs, ulabs, lab_dict, 2, exclude_labs=np.array([\"BAC\"]))"
   ]
  },
  {
   "cell_type": "code",
   "execution_count": null,
   "id": "d8c0526c-ee5f-47f5-be9d-649d22919f57",
   "metadata": {},
   "outputs": [],
   "source": [
    "# Same as last cell, but eliminate the securities \"PFE\" and \"BAC\" from consideration.\n",
    "va.most_corr_vecs(X, labs, ulabs, lab_dict, 2, exclude_labs=np.array([\"PFE\", \"IBM\"]))"
   ]
  },
  {
   "cell_type": "code",
   "execution_count": null,
   "id": "be2115ee-03e1-4ecb-8bca-caa2c7ca256d",
   "metadata": {},
   "outputs": [],
   "source": [
    "# Find \"best\" correlations, where best means smallest (ideally this should find securities that are anti-correlated). \n",
    "CT = va.CorrType\n",
    "va.most_corr_vecs(X, labs, ulabs, lab_dict, 2, corr_type=CT.LEAST)"
   ]
  },
  {
   "cell_type": "code",
   "execution_count": null,
   "id": "6f4eb29b-7040-494b-bfe1-231fc778546b",
   "metadata": {},
   "outputs": [],
   "source": [
    "# Find \"best\" correlations, where best means lowest.\n",
    "# Lowest means smallest in absolute value. For a given security,\n",
    "# this should select the 2 securities which are the most un-related.\n",
    "CT = va.CorrType\n",
    "va.most_corr_vecs(X, labs, ulabs, lab_dict, 2, corr_type=CT.LOW)"
   ]
  }
 ],
 "metadata": {
  "kernelspec": {
   "display_name": "Python [conda env:base] *",
   "language": "python",
   "name": "conda-base-py"
  },
  "language_info": {
   "codemirror_mode": {
    "name": "ipython",
    "version": 3
   },
   "file_extension": ".py",
   "mimetype": "text/x-python",
   "name": "python",
   "nbconvert_exporter": "python",
   "pygments_lexer": "ipython3",
   "version": "3.12.2"
  }
 },
 "nbformat": 4,
 "nbformat_minor": 5
}
