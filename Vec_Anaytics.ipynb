{
 "cells": [
  {
   "cell_type": "markdown",
   "id": "05e6f30d-5a55-4dcd-8b26-beefd0e0aa57",
   "metadata": {},
   "source": [
    "## Setup"
   ]
  },
  {
   "cell_type": "code",
   "execution_count": null,
   "id": "1d8350d9-f3ca-4736-b6c1-6f33f8b59dd0",
   "metadata": {},
   "outputs": [],
   "source": [
    "import numpy as np\n",
    "import vec_analytics as va"
   ]
  },
  {
   "cell_type": "code",
   "execution_count": null,
   "id": "e6af2852-85ff-41fc-8e6c-bc28940d7fcd",
   "metadata": {},
   "outputs": [],
   "source": [
    "np.random.seed(1)"
   ]
  },
  {
   "cell_type": "markdown",
   "id": "42f95043-d3d6-4f6e-9f90-e01473d122b7",
   "metadata": {},
   "source": [
    "### Weighted Quantiles"
   ]
  },
  {
   "cell_type": "code",
   "execution_count": null,
   "id": "73da65d5-02c5-4027-8440-0fdbe95f237b",
   "metadata": {},
   "outputs": [],
   "source": [
    "xs = np.linspace(0.0, 10.0, 2000) \n",
    "ws = np.random.rand(2000)\n",
    "#ws = np.ones(2000)\n",
    "qs = np.array([0.1, 0.25, 0.5, 0.75, 0.9])\n",
    "\n",
    "res = va.wgt_quantiles(xs, ws, qs)\n",
    "print(f\"wuantiles = {res}\")"
   ]
  },
  {
   "cell_type": "markdown",
   "id": "e39e1ff4-d785-4c30-a169-185846078bbb",
   "metadata": {},
   "source": [
    "### Weighted \"Vector\" of Quantiles"
   ]
  },
  {
   "cell_type": "code",
   "execution_count": null,
   "id": "44f13a19-fadf-4fd1-8993-3c637d751da2",
   "metadata": {},
   "outputs": [],
   "source": [
    "X = np.linspace(0.0, 10.0, 2000) \n",
    "X = X.reshape(10, 200)\n",
    "ws = np.random.rand(200)\n",
    "qs = np.array([0.1, 0.25, 0.5, 0.75, 0.9])\n",
    "\n",
    "res = va.wgt_quantiles_tensor(X, ws, qs)\n",
    "print(f\"Tensor Quantiles:\")\n",
    "[print(f\"{r}\") for r in res];"
   ]
  },
  {
   "cell_type": "markdown",
   "id": "65cee8b5-99d3-4fd8-a4cd-00d0055b5db7",
   "metadata": {},
   "source": [
    "### Most Correlated Security"
   ]
  },
  {
   "cell_type": "code",
   "execution_count": null,
   "id": "004e9d5e-6855-4290-9df1-0f4405b729a3",
   "metadata": {},
   "outputs": [],
   "source": [
    "X = np.random.rand(5, 10)"
   ]
  },
  {
   "cell_type": "code",
   "execution_count": null,
   "id": "471661f0-6902-4440-b30d-3582097e7668",
   "metadata": {},
   "outputs": [],
   "source": [
    "va.corr(X)"
   ]
  },
  {
   "cell_type": "code",
   "execution_count": null,
   "id": "9a576bf2-8252-471a-9aa7-f16b2b6cd6ab",
   "metadata": {},
   "outputs": [],
   "source": [
    "ulabs = np.array([\"IBM\", \"PFE\", \"C\", \"BAC\", \"GS\"])\n",
    "labs  = np.array([\"PFE\", \"GS\"])\n",
    "lab_dict = { 'IBM' : 0, 'PFE' : 1, 'C' : 2, 'BAC' : 3, 'GS' : 4 }"
   ]
  },
  {
   "cell_type": "code",
   "execution_count": null,
   "id": "d693b804-2a8e-4ad8-b1fc-5cfe5effc6f0",
   "metadata": {},
   "outputs": [],
   "source": [
    "va.most_corr_vec(X, labs, ulabs, lab_dict)"
   ]
  },
  {
   "cell_type": "markdown",
   "id": "2c643b8e-168d-4bf9-bd51-1aa37d313b77",
   "metadata": {},
   "source": [
    "### Most Correlated Securities (limited to 2 (k = 2))"
   ]
  },
  {
   "cell_type": "code",
   "execution_count": null,
   "id": "21d17be3-ccd7-41f2-869d-ce2e8ac37760",
   "metadata": {},
   "outputs": [],
   "source": [
    "va.most_corr_vecs(X, labs, ulabs, lab_dict, 2)"
   ]
  }
 ],
 "metadata": {
  "kernelspec": {
   "display_name": "Python [conda env:base] *",
   "language": "python",
   "name": "conda-base-py"
  },
  "language_info": {
   "codemirror_mode": {
    "name": "ipython",
    "version": 3
   },
   "file_extension": ".py",
   "mimetype": "text/x-python",
   "name": "python",
   "nbconvert_exporter": "python",
   "pygments_lexer": "ipython3",
   "version": "3.12.2"
  }
 },
 "nbformat": 4,
 "nbformat_minor": 5
}
